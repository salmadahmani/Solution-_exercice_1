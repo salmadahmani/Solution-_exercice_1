{
  "nbformat": 4,
  "nbformat_minor": 0,
  "metadata": {
    "colab": {
      "provenance": []
    },
    "kernelspec": {
      "name": "python3",
      "display_name": "Python 3"
    },
    "language_info": {
      "name": "python"
    }
  },
  "cells": [
    {
      "cell_type": "code",
      "execution_count": 33,
      "metadata": {
        "colab": {
          "base_uri": "https://localhost:8080/"
        },
        "id": "g5BLGNShPWJW",
        "outputId": "40aa953d-85b3-45d3-eb4c-cc82c79e2bda"
      },
      "outputs": [
        {
          "output_type": "execute_result",
          "data": {
            "text/plain": [
              "array([ 4,  5,  9,  5,  9,  6,  5,  7, 14,  4, 12,  5,  5,  9,  2, 13,  8,\n",
              "       14, 12, 11,  0,  8, 14,  7, 13,  2,  4,  8,  3,  2,  4, 10,  0, 14,\n",
              "        9, 10,  5,  8, 10,  1, 12,  8,  3, 13,  2, 13,  4, 10, 13,  5,  9,\n",
              "        2,  1,  5,  9, 11,  6, 12,  8,  9, 11, 14, 14, 12, 13,  5,  1,  3,\n",
              "       14, 14,  0,  2,  9, 12,  6, 13, 14, 13,  9,  0,  7,  3,  7,  3,  8,\n",
              "        6,  7,  3, 10,  5,  4,  2,  7, 10, 14, 10, 13,  0,  6,  2])"
            ]
          },
          "metadata": {},
          "execution_count": 33
        }
      ],
      "source": [
        "from numpy.core.fromnumeric import size\n",
        "from numpy.random import random\n",
        "import numpy as np\n",
        "value = np.random.randint(0,20) \n",
        "note = np.random.randint(value,size=100)\n",
        "note\n",
        "\n"
      ]
    },
    {
      "cell_type": "code",
      "source": [
        "valide = []\n",
        "non_valide =[]\n"
      ],
      "metadata": {
        "id": "9g9dZ4wKgYEx"
      },
      "execution_count": null,
      "outputs": []
    },
    {
      "cell_type": "code",
      "source": [
        "list_1 =[i for i in (note) if i >= 10]\n",
        "valide = list_1.copy()\n",
        "print (\"valide = \",valide)\n",
        "list_2 =[i for i in (note) if i <=10]\n",
        "non_valide = list_2.copy()\n",
        "print (\"Non valide = \",non_valide)\n",
        "\n",
        "\n"
      ],
      "metadata": {
        "colab": {
          "base_uri": "https://localhost:8080/"
        },
        "id": "U-0Q9R5BhgZM",
        "outputId": "0c0cc4fa-0277-430a-c7b7-2fd3099aa05e"
      },
      "execution_count": 34,
      "outputs": [
        {
          "output_type": "stream",
          "name": "stdout",
          "text": [
            "valide =  [14, 12, 13, 14, 12, 11, 14, 13, 10, 14, 10, 10, 12, 13, 13, 10, 13, 11, 12, 11, 14, 14, 12, 13, 14, 14, 12, 13, 14, 13, 10, 10, 14, 10, 13]\n",
            "Non valide =  [4, 5, 9, 5, 9, 6, 5, 7, 4, 5, 5, 9, 2, 8, 0, 8, 7, 2, 4, 8, 3, 2, 4, 10, 0, 9, 10, 5, 8, 10, 1, 8, 3, 2, 4, 10, 5, 9, 2, 1, 5, 9, 6, 8, 9, 5, 1, 3, 0, 2, 9, 6, 9, 0, 7, 3, 7, 3, 8, 6, 7, 3, 10, 5, 4, 2, 7, 10, 10, 0, 6, 2]\n"
          ]
        }
      ]
    },
    {
      "cell_type": "code",
      "source": [
        "\n"
      ],
      "metadata": {
        "id": "MPo6ZqBmn6US"
      },
      "execution_count": 24,
      "outputs": []
    }
  ]
}